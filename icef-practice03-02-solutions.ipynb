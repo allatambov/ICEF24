{
 "cells": [
  {
   "cell_type": "markdown",
   "metadata": {},
   "source": [
    "# Python для сбора и анализа данных\n",
    "\n",
    "*Алла Тамбовцева*\n",
    "\n",
    "## Практикум 3*. Работа с API ВКонтакте: собираем посты со стены"
   ]
  },
  {
   "cell_type": "markdown",
   "metadata": {},
   "source": [
    "## Подготовка к работе"
   ]
  },
  {
   "cell_type": "markdown",
   "metadata": {},
   "source": [
    "Загружаем модули и библиотеки, необходимые для работы:"
   ]
  },
  {
   "cell_type": "code",
   "execution_count": 1,
   "metadata": {},
   "outputs": [],
   "source": [
    "import requests\n",
    "import time\n",
    "import pandas as pd"
   ]
  },
  {
   "cell_type": "markdown",
   "metadata": {},
   "source": [
    "Для начала давайте посмотрим на документацию API и посмотрим, как к нему формировать запросы: https://dev.vk.com/api/api-requests.\n",
    "По [инструкции](https://allatambov.github.io/pypolit/vk-auth.pdf) мы можем получить доступ к API, создадим приложение и скопируем его ID, чтобы получить ссылку для токена доступа:"
   ]
  },
  {
   "cell_type": "code",
   "execution_count": 2,
   "metadata": {},
   "outputs": [
    {
     "name": "stdout",
     "output_type": "stream",
     "text": [
      "Enter your client id: 51852748\n",
      "https://oauth.vk.com/authorize?client_id=51852748&display=page&redirect_uri=http://oauth.vk.com/blank.html&scope=all&response_type=token\n"
     ]
    }
   ],
   "source": [
    "app_id = input(\"Enter your client id: \")\n",
    "url = f\"https://oauth.vk.com/authorize?client_id={app_id}&display=page&redirect_uri=http://oauth.vk.com/blank.html&scope=all&response_type=token\"\n",
    "print(url)"
   ]
  },
  {
   "cell_type": "markdown",
   "metadata": {},
   "source": [
    "Переходим по ссылке выше и копируем ссылку (полностью!) из адресной строки:"
   ]
  },
  {
   "cell_type": "code",
   "execution_count": 3,
   "metadata": {},
   "outputs": [
    {
     "name": "stdout",
     "output_type": "stream",
     "text": [
      "https://oauth.vk.com/blank.html#access_token=vk1.a.VDVZZI2oO4uGuuil23wLfQJoONJivjl8H813ElPM1h671JrNIHJknPJpiKhkDBXgMMk1eEqbrtXcxuO9NllrCTtb17VEMHSEXFpb5EErAE6OBjFWMktFZmWbhEtTgI91Ypdkbf20-gQZBi77LQvmGsaY0A_97EM3dBbJSe7wG_tZ33xSkUMU-akFBzebhHLS&expires_in=86400&user_id=20473269\n"
     ]
    }
   ],
   "source": [
    "full_link = input()"
   ]
  },
  {
   "cell_type": "markdown",
   "metadata": {},
   "source": [
    "Разбиваем полученную ссылку (сначала по `access_token=`, потом часть после `=` по `&`) и забираем токен в чистом виде:"
   ]
  },
  {
   "cell_type": "code",
   "execution_count": 5,
   "metadata": {},
   "outputs": [],
   "source": [
    "token = full_link.split(\"access_token=\")[1].split(\"&\")[0]"
   ]
  },
  {
   "cell_type": "markdown",
   "metadata": {},
   "source": [
    "Ура! Теперь токен доступа у нас есть, всё готово к работе!"
   ]
  },
  {
   "cell_type": "markdown",
   "metadata": {},
   "source": [
    "## Выгружаем посты со стены сообщества"
   ]
  },
  {
   "cell_type": "markdown",
   "metadata": {},
   "source": [
    "На этом практическом занятии мы будем выгружать посты из сообщества [скалодрома Rock Zona](https://vk.com/rzclimbing). Сохраним в переменные версию API, ссылку для метода работы со стеной сообщества и название сообщества:"
   ]
  },
  {
   "cell_type": "code",
   "execution_count": 6,
   "metadata": {},
   "outputs": [],
   "source": [
    "v = \"5.131\"\n",
    "main_wall = \"https://api.vk.com/method/wall.get\"\n",
    "domain = \"rzclimbing\""
   ]
  },
  {
   "cell_type": "markdown",
   "metadata": {},
   "source": [
    "Функция `get()` из библиотеки `requests` умеет подставлять в запрос необходимые параметры и объединять их с помощью `?` и `&`. Сохраним необходимые параметры в виде словаря:"
   ]
  },
  {
   "cell_type": "code",
   "execution_count": 7,
   "metadata": {},
   "outputs": [],
   "source": [
    "params_wall = {\"access_token\" : token, \n",
    "              \"domain\" : domain, \n",
    "              \"count\" : 100,\n",
    "              \"v\" : v}"
   ]
  },
  {
   "cell_type": "markdown",
   "metadata": {},
   "source": [
    "А теперь сформируем запрос и выгрузим результаты в формате JSON – в Python данные в таком формате будут представлены в виде словаря:"
   ]
  },
  {
   "cell_type": "code",
   "execution_count": 8,
   "metadata": {},
   "outputs": [],
   "source": [
    "req_wall = requests.get(main_wall, params = params_wall)"
   ]
  },
  {
   "cell_type": "code",
   "execution_count": 9,
   "metadata": {},
   "outputs": [],
   "source": [
    "json_wall = req_wall.json()\n",
    "#json_wall"
   ]
  },
  {
   "cell_type": "markdown",
   "metadata": {},
   "source": [
    "Извлечём из этого большого словаря элемент, который отвечает за общее число постов на стене:"
   ]
  },
  {
   "cell_type": "code",
   "execution_count": 10,
   "metadata": {},
   "outputs": [
    {
     "name": "stdout",
     "output_type": "stream",
     "text": [
      "1751\n"
     ]
    }
   ],
   "source": [
    "nposts = json_wall['response']['count']\n",
    "print(nposts)"
   ]
  },
  {
   "cell_type": "markdown",
   "metadata": {},
   "source": [
    "Теперь извлечём элемент, который хранит результаты – список из маленьких словарей с информацией о постах (1 словарь = 1 пост):"
   ]
  },
  {
   "cell_type": "code",
   "execution_count": 11,
   "metadata": {},
   "outputs": [],
   "source": [
    "items_wall = json_wall['response']['items']"
   ]
  },
  {
   "cell_type": "markdown",
   "metadata": {},
   "source": [
    "Посмотрим на один элемент такого списка:"
   ]
  },
  {
   "cell_type": "code",
   "execution_count": 13,
   "metadata": {},
   "outputs": [
    {
     "data": {
      "text/plain": [
       "{'inner_type': 'wall_wallpost',\n",
       " 'donut': {'is_donut': False},\n",
       " 'comments': {'can_post': 1, 'count': 0, 'groups_can_post': True},\n",
       " 'marked_as_ads': 0,\n",
       " 'short_text_rate': 0.8,\n",
       " 'hash': 'kMGbq4JaNr6LsmtMpCUuN5j2D1Q',\n",
       " 'type': 'post',\n",
       " 'attachments': [{'type': 'photo',\n",
       "   'photo': {'album_id': -7,\n",
       "    'date': 1708447649,\n",
       "    'id': 457244859,\n",
       "    'owner_id': -38936316,\n",
       "    'access_key': 'a9519a4ce5229a8cc9',\n",
       "    'post_id': 4414,\n",
       "    'sizes': [{'height': 75,\n",
       "      'type': 's',\n",
       "      'width': 75,\n",
       "      'url': 'https://sun9-30.userapi.com/impg/Mcg7DKm-h8HT8l893J9uwwwsDG7_c9iYdH-5Qg/UfWJT52r-QA.jpg?size=75x75&quality=95&sign=75a332503a72bbf0d337d09021dfd06f&c_uniq_tag=03rGRSczzLZCLx_5jIswF0NSFa4f0t7XLAve2qsVufs&type=album'},\n",
       "     {'height': 130,\n",
       "      'type': 'm',\n",
       "      'width': 130,\n",
       "      'url': 'https://sun9-30.userapi.com/impg/Mcg7DKm-h8HT8l893J9uwwwsDG7_c9iYdH-5Qg/UfWJT52r-QA.jpg?size=130x130&quality=95&sign=7fba5de423a35721eb90e61a87fc1a1e&c_uniq_tag=1aYPTeML_LgRx9zQsXtckKkiusCq3Fe1CmMnDry4Kow&type=album'},\n",
       "     {'height': 604,\n",
       "      'type': 'x',\n",
       "      'width': 604,\n",
       "      'url': 'https://sun9-30.userapi.com/impg/Mcg7DKm-h8HT8l893J9uwwwsDG7_c9iYdH-5Qg/UfWJT52r-QA.jpg?size=604x604&quality=95&sign=1be341de67c402c17af066331f022f03&c_uniq_tag=NiU2U5DxBNJEPZxXEltU03xdXDO8Pn3KEa0cE_G-PVU&type=album'},\n",
       "     {'height': 807,\n",
       "      'type': 'y',\n",
       "      'width': 807,\n",
       "      'url': 'https://sun9-30.userapi.com/impg/Mcg7DKm-h8HT8l893J9uwwwsDG7_c9iYdH-5Qg/UfWJT52r-QA.jpg?size=807x807&quality=95&sign=5d0bf58b0566006e5bd285617f96f1f3&c_uniq_tag=ybhPUFroHVjRSo8My5tNEuFCSuEpOvqQeMvTq7TkI1o&type=album'},\n",
       "     {'height': 1082,\n",
       "      'type': 'z',\n",
       "      'width': 1082,\n",
       "      'url': 'https://sun9-30.userapi.com/impg/Mcg7DKm-h8HT8l893J9uwwwsDG7_c9iYdH-5Qg/UfWJT52r-QA.jpg?size=1082x1082&quality=95&sign=ae18a1b64f00c4c0d14ee5e03bd89acf&c_uniq_tag=-bR7G0q4IJwjnr8g_RW-0E_rVFzQLTq6-_aX6JHK2Ns&type=album'},\n",
       "     {'height': 130,\n",
       "      'type': 'o',\n",
       "      'width': 130,\n",
       "      'url': 'https://sun9-30.userapi.com/impg/Mcg7DKm-h8HT8l893J9uwwwsDG7_c9iYdH-5Qg/UfWJT52r-QA.jpg?size=130x130&quality=95&sign=7fba5de423a35721eb90e61a87fc1a1e&c_uniq_tag=1aYPTeML_LgRx9zQsXtckKkiusCq3Fe1CmMnDry4Kow&type=album'},\n",
       "     {'height': 200,\n",
       "      'type': 'p',\n",
       "      'width': 200,\n",
       "      'url': 'https://sun9-30.userapi.com/impg/Mcg7DKm-h8HT8l893J9uwwwsDG7_c9iYdH-5Qg/UfWJT52r-QA.jpg?size=200x200&quality=95&sign=71fe805ad0c3f14693904f83de7ec3df&c_uniq_tag=FuW5bLTbOUkkFoz-8hqWI9nMNwdEBhQHnydJZyiCDnk&type=album'},\n",
       "     {'height': 320,\n",
       "      'type': 'q',\n",
       "      'width': 320,\n",
       "      'url': 'https://sun9-30.userapi.com/impg/Mcg7DKm-h8HT8l893J9uwwwsDG7_c9iYdH-5Qg/UfWJT52r-QA.jpg?size=320x320&quality=95&sign=582b639e9189df5246f0d31687a141ff&c_uniq_tag=nTVMnWT07XGmkgbdvTZagM_gUsePVc_JWYVg4Jc8So8&type=album'},\n",
       "     {'height': 510,\n",
       "      'type': 'r',\n",
       "      'width': 510,\n",
       "      'url': 'https://sun9-30.userapi.com/impg/Mcg7DKm-h8HT8l893J9uwwwsDG7_c9iYdH-5Qg/UfWJT52r-QA.jpg?size=510x510&quality=95&sign=2a158b6a81fa4d04742cd1c2f0c52b65&c_uniq_tag=HPE4x38GYtSXqv_bjSmx2Y3kMvU07x-FvDPsMuUhHNw&type=album'}],\n",
       "    'text': '',\n",
       "    'user_id': 100,\n",
       "    'web_view_token': 'd166ee6b4822b458cb',\n",
       "    'has_tags': False}}],\n",
       " 'date': 1708447649,\n",
       " 'from_id': -38936316,\n",
       " 'id': 4414,\n",
       " 'is_favorite': False,\n",
       " 'likes': {'can_like': 1,\n",
       "  'count': 13,\n",
       "  'user_likes': 0,\n",
       "  'can_publish': 1,\n",
       "  'repost_disabled': False},\n",
       " 'owner_id': -38936316,\n",
       " 'post_source': {'platform': 'iphone', 'type': 'api'},\n",
       " 'post_type': 'post',\n",
       " 'reposts': {'count': 3, 'user_reposted': 0},\n",
       " 'text': 'КАК УПРАВЛЯТЬ НАПРЯЖЕНИЕМ НА СЛОЖНЫХ ТРАССАХ\\n\\nРезкие движения, страх падения и неуверенность в том, что будет дальше, могут способствовать появлению непродуктивных мыслей и физического напряжения, которое нарастает с огромной скоростью. \\n\\nЕсли это напряжение не контролировать, оно приведет к тому, что вы устанете и, скорее всего, сорветесь.\\n\\nДаже опытные скалолазы время от времени испытывают стресс во время лазания, однако они умеют контролировать его на лету.  \\n\\nСтратегии для развития самоконтроля: \\n\\n1. Контролируйте дыхание\\n\\nГлубокое, ровное дыхание помогает снять напряжение благодаря механизму обратной связи. Мы склонны дышать неглубоко, а иногда даже задерживать дыхание во время сложных движений, что только увеличивает напряжение. \\n\\nСтарайтесь дышать медленно и глубоко, когда это возможно, а также восстанавливайте ровное дыхание, когда оно сбивается после сложных движений.\\n\\nЕсли маршрут предусматривает места отдыха, используйте их, чтобы выровнять дыхание и восстановить свое состояние. \\n\\nЭти рекомендации на первый взгляд относятся к лазанию на трудность, но боулдеринговые трассы также часто подразумевают места для отдыха и требуют контроля за дыханием, особенно участки с положительным уклоном. \\n\\n2. Мыслите позитивно и фокусируйтесь на цели\\n\\nСомнения и страхи - это груз, который вы берете с собой на трассу. \\nХорошая привычка - это следить за мыслями и своим внутренним диалогом. \\nЯвляется ли он продуктивным или непродуктивным по своей природе? Оцените все страхи, являются ли они обоснованными или это просто фантомные страхи, отравляющие ваше лазание?  \\n\\nНе позволяйте себе сомневаться в своих силах или размышлять о неудаче, возвращайте концентрацию на лазание и дыхание. \\n\\n3. Делите сложную задачу на этапы\\n\\nСложно не нервничать, размышляя о том, что вам предстоит 40 сложнейших перехватов или о том, что вы все предыдущие попытки вы падали с топа на своем проекте. \\n\\nМысленно разбейте маршрут или боулдеринг на этапы или подзадачи, фокусируйтесь на одной задаче за раз, не думайте о будущем - это поможет снизить стресс и повысит шансы на успех.',\n",
       " 'views': {'count': 1545}}"
      ]
     },
     "execution_count": 13,
     "metadata": {},
     "output_type": "execute_result"
    }
   ],
   "source": [
    "i = items_wall[8]\n",
    "i"
   ]
  },
  {
   "cell_type": "markdown",
   "metadata": {},
   "source": [
    "### Задача 1\n",
    "\n",
    "Извлеките из элемента `i` следующие компоненты:\n",
    "\n",
    "* id поста;\n",
    "* дата поста;\n",
    "* текст поста;\n",
    "* число лайков;\n",
    "* число репостов;\n",
    "* число просмотров;\n",
    "* число комментариев."
   ]
  },
  {
   "cell_type": "code",
   "execution_count": 14,
   "metadata": {},
   "outputs": [
    {
     "name": "stdout",
     "output_type": "stream",
     "text": [
      "4414 1708447649 КАК УПРАВЛЯТЬ НАПРЯЖЕНИЕМ НА СЛОЖНЫХ ТРАССАХ\n",
      "\n",
      "Резкие движения, страх падения и неуверенность в том, что будет дальше, могут способствовать появлению непродуктивных мыслей и физического напряжения, которое нарастает с огромной скоростью. \n",
      "\n",
      "Если это напряжение не контролировать, оно приведет к тому, что вы устанете и, скорее всего, сорветесь.\n",
      "\n",
      "Даже опытные скалолазы время от времени испытывают стресс во время лазания, однако они умеют контролировать его на лету.  \n",
      "\n",
      "Стратегии для развития самоконтроля: \n",
      "\n",
      "1. Контролируйте дыхание\n",
      "\n",
      "Глубокое, ровное дыхание помогает снять напряжение благодаря механизму обратной связи. Мы склонны дышать неглубоко, а иногда даже задерживать дыхание во время сложных движений, что только увеличивает напряжение. \n",
      "\n",
      "Старайтесь дышать медленно и глубоко, когда это возможно, а также восстанавливайте ровное дыхание, когда оно сбивается после сложных движений.\n",
      "\n",
      "Если маршрут предусматривает места отдыха, используйте их, чтобы выровнять дыхание и восстановить свое состояние. \n",
      "\n",
      "Эти рекомендации на первый взгляд относятся к лазанию на трудность, но боулдеринговые трассы также часто подразумевают места для отдыха и требуют контроля за дыханием, особенно участки с положительным уклоном. \n",
      "\n",
      "2. Мыслите позитивно и фокусируйтесь на цели\n",
      "\n",
      "Сомнения и страхи - это груз, который вы берете с собой на трассу. \n",
      "Хорошая привычка - это следить за мыслями и своим внутренним диалогом. \n",
      "Является ли он продуктивным или непродуктивным по своей природе? Оцените все страхи, являются ли они обоснованными или это просто фантомные страхи, отравляющие ваше лазание?  \n",
      "\n",
      "Не позволяйте себе сомневаться в своих силах или размышлять о неудаче, возвращайте концентрацию на лазание и дыхание. \n",
      "\n",
      "3. Делите сложную задачу на этапы\n",
      "\n",
      "Сложно не нервничать, размышляя о том, что вам предстоит 40 сложнейших перехватов или о том, что вы все предыдущие попытки вы падали с топа на своем проекте. \n",
      "\n",
      "Мысленно разбейте маршрут или боулдеринг на этапы или подзадачи, фокусируйтесь на одной задаче за раз, не думайте о будущем - это поможет снизить стресс и повысит шансы на успех.\n",
      "0 13 1545\n"
     ]
    }
   ],
   "source": [
    "print(i[\"id\"], i[\"date\"], i[\"text\"])\n",
    "print(i[\"comments\"][\"count\"], i[\"likes\"][\"count\"], i[\"views\"][\"count\"])"
   ]
  },
  {
   "cell_type": "markdown",
   "metadata": {},
   "source": [
    "### Задача 2\n",
    "\n",
    "Изучить один пост и понять, что нам от него нужно, это хорошо, но, конечно, мы захотим выгрузить все посты сразу, а уже потом разобраться, какую информацию о них нам оставить. Ограничения данного API таковы, что за один раз мы можем выгрузить только 100 постов. Хорошие новости: каждый раз при выгрузке мы можем начинать с того поста, на котором закончили, то есть сначала выгрузить первые 100 постов, потом – следующие 100 постов, и так до тех пор, пока не заполучим все. \n",
    "\n",
    "Общее число постов сохранено в `nposts`. Посчитайте, сколько раз нужно будет выполнить выгрузку по 100 постов, чтобы собрать все тексты, и сохраните его в переменную `iterate`."
   ]
  },
  {
   "cell_type": "code",
   "execution_count": 15,
   "metadata": {},
   "outputs": [],
   "source": [
    "# 1751 - надо 18 раз выгрузить по 100\n",
    "# в общем виде делим нацело на 100 и прибавляем 1\n",
    "\n",
    "iterate = nposts // 100 + 1"
   ]
  },
  {
   "cell_type": "markdown",
   "metadata": {},
   "source": [
    "### Задача 3\n",
    "\n",
    "Прочитайте в документации к API ВКонтакте про аргумент `offset` в методе `wall.get`. Используя полученную информацию и блоки кода ниже, выгрузите и сохраните в список `items_all` данные по всем постам на стене сообщества.\n",
    "\n",
    "**Подсказка:** чтобы расширять список правильным образом, используйте метод `.extend()`, а не `.append()`, он добавляет не один элемент, а сразу несколько."
   ]
  },
  {
   "cell_type": "code",
   "execution_count": 16,
   "metadata": {},
   "outputs": [],
   "source": [
    "params_wall_long = {\"access_token\" : token, \n",
    "              \"domain\" : domain, \n",
    "              \"count\" : 100,\n",
    "              \"v\" : v,\n",
    "              \"offset\" : 0}"
   ]
  },
  {
   "cell_type": "code",
   "execution_count": 17,
   "metadata": {},
   "outputs": [
    {
     "name": "stdout",
     "output_type": "stream",
     "text": [
      "0\n",
      "1\n",
      "2\n",
      "3\n",
      "4\n",
      "5\n",
      "6\n",
      "7\n",
      "8\n",
      "9\n",
      "10\n",
      "11\n",
      "12\n",
      "13\n",
      "14\n",
      "15\n",
      "16\n",
      "17\n"
     ]
    }
   ],
   "source": [
    "items_all = []\n",
    "\n",
    "for i in range(iterate):\n",
    "    req_wall_long = requests.get(main_wall, params = params_wall_long)\n",
    "    json_wall_long = req_wall_long.json()\n",
    "    items_wall_long = json_wall_long['response']['items']\n",
    "    \n",
    "    # YOUR CODE HERE\n",
    "    items_all.extend(items_wall_long)\n",
    "    params_wall_long[\"offset\"] += 100\n",
    "    \n",
    "    time.sleep(1)\n",
    "    print(i)"
   ]
  },
  {
   "cell_type": "markdown",
   "metadata": {},
   "source": [
    "Проверяем длину списка – все ли посты собраны:"
   ]
  },
  {
   "cell_type": "code",
   "execution_count": 18,
   "metadata": {},
   "outputs": [
    {
     "data": {
      "text/plain": [
       "1751"
      ]
     },
     "execution_count": 18,
     "metadata": {},
     "output_type": "execute_result"
    }
   ],
   "source": [
    "len(items_all)"
   ]
  },
  {
   "cell_type": "markdown",
   "metadata": {},
   "source": [
    "### Задача 4\n",
    "\n",
    "Создайте на основе списка `items_all` датафрейм `df` со следующими столбцами:\n",
    "\n",
    "* id поста (`id`);\n",
    "* дата поста (`date`);\n",
    "* текст поста (`text`);\n",
    "* число лайков (`nlikes`);\n",
    "* число просмотров (`nviews`);\n",
    "* число комментариев (`ncomments`).\n",
    "\n",
    "**Подсказка:** отберите сначала необходимую информацию из каждого элемента в `items_all`, а затем переходите к датафрейму."
   ]
  },
  {
   "cell_type": "code",
   "execution_count": 20,
   "metadata": {},
   "outputs": [],
   "source": [
    "# вариант без функций, просто цикл по мотивам кода из задачи 1\n",
    "# только пишем условие для views,\n",
    "# в старых постах просмотры не фиксировались,\n",
    "# в словарях с постами просто нет ключа views\n",
    "\n",
    "items_clean = []\n",
    "\n",
    "for i in items_all:\n",
    "    id_ = i[\"id\"]\n",
    "    date = i[\"date\"]\n",
    "    text = i[\"text\"]\n",
    "    nlikes = i[\"likes\"][\"count\"]\n",
    "    ncomments = i[\"comments\"][\"count\"]\n",
    "    \n",
    "    if i.get(\"views\") is None:\n",
    "        nviews = None\n",
    "    else:\n",
    "        nviews = i[\"views\"][\"count\"]\n",
    "                                    \n",
    "    results = [id_, date, text, nlikes, nviews, ncomments]\n",
    "    items_clean.append(results)"
   ]
  },
  {
   "cell_type": "code",
   "execution_count": 21,
   "metadata": {},
   "outputs": [],
   "source": [
    "import pandas as pd"
   ]
  },
  {
   "cell_type": "code",
   "execution_count": 22,
   "metadata": {},
   "outputs": [],
   "source": [
    "df = pd.DataFrame(items_clean)"
   ]
  },
  {
   "cell_type": "code",
   "execution_count": 23,
   "metadata": {},
   "outputs": [
    {
     "data": {
      "text/html": [
       "<div>\n",
       "<style scoped>\n",
       "    .dataframe tbody tr th:only-of-type {\n",
       "        vertical-align: middle;\n",
       "    }\n",
       "\n",
       "    .dataframe tbody tr th {\n",
       "        vertical-align: top;\n",
       "    }\n",
       "\n",
       "    .dataframe thead th {\n",
       "        text-align: right;\n",
       "    }\n",
       "</style>\n",
       "<table border=\"1\" class=\"dataframe\">\n",
       "  <thead>\n",
       "    <tr style=\"text-align: right;\">\n",
       "      <th></th>\n",
       "      <th>0</th>\n",
       "      <th>1</th>\n",
       "      <th>2</th>\n",
       "      <th>3</th>\n",
       "      <th>4</th>\n",
       "      <th>5</th>\n",
       "    </tr>\n",
       "  </thead>\n",
       "  <tbody>\n",
       "    <tr>\n",
       "      <th>0</th>\n",
       "      <td>4424</td>\n",
       "      <td>1709314161</td>\n",
       "      <td>✅ Эта часовая тренировка отлично подходит для ...</td>\n",
       "      <td>11</td>\n",
       "      <td>958.0</td>\n",
       "      <td>2</td>\n",
       "    </tr>\n",
       "    <tr>\n",
       "      <th>1</th>\n",
       "      <td>4421</td>\n",
       "      <td>1709142054</td>\n",
       "      <td>🏆 Победители и призеры фестиваля Boulderhouse....</td>\n",
       "      <td>20</td>\n",
       "      <td>628.0</td>\n",
       "      <td>2</td>\n",
       "    </tr>\n",
       "    <tr>\n",
       "      <th>2</th>\n",
       "      <td>4420</td>\n",
       "      <td>1709117429</td>\n",
       "      <td>✨ Фестиваль фестивалем, а новые трассы по расп...</td>\n",
       "      <td>17</td>\n",
       "      <td>887.0</td>\n",
       "      <td>0</td>\n",
       "    </tr>\n",
       "    <tr>\n",
       "      <th>3</th>\n",
       "      <td>4419</td>\n",
       "      <td>1708968819</td>\n",
       "      <td>🔥🔥🔥 Друзья, напоминаем вам, что у нас есть при...</td>\n",
       "      <td>16</td>\n",
       "      <td>1379.0</td>\n",
       "      <td>0</td>\n",
       "    </tr>\n",
       "    <tr>\n",
       "      <th>4</th>\n",
       "      <td>4418</td>\n",
       "      <td>1708782383</td>\n",
       "      <td></td>\n",
       "      <td>20</td>\n",
       "      <td>513.0</td>\n",
       "      <td>0</td>\n",
       "    </tr>\n",
       "    <tr>\n",
       "      <th>...</th>\n",
       "      <td>...</td>\n",
       "      <td>...</td>\n",
       "      <td>...</td>\n",
       "      <td>...</td>\n",
       "      <td>...</td>\n",
       "      <td>...</td>\n",
       "    </tr>\n",
       "    <tr>\n",
       "      <th>1746</th>\n",
       "      <td>5</td>\n",
       "      <td>1337884016</td>\n",
       "      <td>Внимание!!!С 28 мая скалодром работает с понед...</td>\n",
       "      <td>1</td>\n",
       "      <td>NaN</td>\n",
       "      <td>0</td>\n",
       "    </tr>\n",
       "    <tr>\n",
       "      <th>1747</th>\n",
       "      <td>4</td>\n",
       "      <td>1337617123</td>\n",
       "      <td>Внимание!2.06 финал фестиваля будет совмещен с...</td>\n",
       "      <td>0</td>\n",
       "      <td>NaN</td>\n",
       "      <td>0</td>\n",
       "    </tr>\n",
       "    <tr>\n",
       "      <th>1748</th>\n",
       "      <td>3</td>\n",
       "      <td>1337344257</td>\n",
       "      <td>Отличный скалодром)))</td>\n",
       "      <td>2</td>\n",
       "      <td>NaN</td>\n",
       "      <td>0</td>\n",
       "    </tr>\n",
       "    <tr>\n",
       "      <th>1749</th>\n",
       "      <td>2</td>\n",
       "      <td>1337239769</td>\n",
       "      <td>На скалодроме добавилось еще три новых фестива...</td>\n",
       "      <td>2</td>\n",
       "      <td>NaN</td>\n",
       "      <td>0</td>\n",
       "    </tr>\n",
       "    <tr>\n",
       "      <th>1750</th>\n",
       "      <td>1</td>\n",
       "      <td>1337173384</td>\n",
       "      <td>Ух ты круто я как раз сюда собиралась:-)))</td>\n",
       "      <td>1</td>\n",
       "      <td>NaN</td>\n",
       "      <td>0</td>\n",
       "    </tr>\n",
       "  </tbody>\n",
       "</table>\n",
       "<p>1751 rows × 6 columns</p>\n",
       "</div>"
      ],
      "text/plain": [
       "         0           1                                                  2   3  \\\n",
       "0     4424  1709314161  ✅ Эта часовая тренировка отлично подходит для ...  11   \n",
       "1     4421  1709142054  🏆 Победители и призеры фестиваля Boulderhouse....  20   \n",
       "2     4420  1709117429  ✨ Фестиваль фестивалем, а новые трассы по расп...  17   \n",
       "3     4419  1708968819  🔥🔥🔥 Друзья, напоминаем вам, что у нас есть при...  16   \n",
       "4     4418  1708782383                                                     20   \n",
       "...    ...         ...                                                ...  ..   \n",
       "1746     5  1337884016  Внимание!!!С 28 мая скалодром работает с понед...   1   \n",
       "1747     4  1337617123  Внимание!2.06 финал фестиваля будет совмещен с...   0   \n",
       "1748     3  1337344257                              Отличный скалодром)))   2   \n",
       "1749     2  1337239769  На скалодроме добавилось еще три новых фестива...   2   \n",
       "1750     1  1337173384         Ух ты круто я как раз сюда собиралась:-)))   1   \n",
       "\n",
       "           4  5  \n",
       "0      958.0  2  \n",
       "1      628.0  2  \n",
       "2      887.0  0  \n",
       "3     1379.0  0  \n",
       "4      513.0  0  \n",
       "...      ... ..  \n",
       "1746     NaN  0  \n",
       "1747     NaN  0  \n",
       "1748     NaN  0  \n",
       "1749     NaN  0  \n",
       "1750     NaN  0  \n",
       "\n",
       "[1751 rows x 6 columns]"
      ]
     },
     "execution_count": 23,
     "metadata": {},
     "output_type": "execute_result"
    }
   ],
   "source": [
    "df"
   ]
  },
  {
   "cell_type": "code",
   "execution_count": 25,
   "metadata": {},
   "outputs": [
    {
     "data": {
      "text/html": [
       "<div>\n",
       "<style scoped>\n",
       "    .dataframe tbody tr th:only-of-type {\n",
       "        vertical-align: middle;\n",
       "    }\n",
       "\n",
       "    .dataframe tbody tr th {\n",
       "        vertical-align: top;\n",
       "    }\n",
       "\n",
       "    .dataframe thead th {\n",
       "        text-align: right;\n",
       "    }\n",
       "</style>\n",
       "<table border=\"1\" class=\"dataframe\">\n",
       "  <thead>\n",
       "    <tr style=\"text-align: right;\">\n",
       "      <th></th>\n",
       "      <th>id</th>\n",
       "      <th>date</th>\n",
       "      <th>text</th>\n",
       "      <th>nlikes</th>\n",
       "      <th>nviews</th>\n",
       "      <th>ncomments</th>\n",
       "    </tr>\n",
       "  </thead>\n",
       "  <tbody>\n",
       "    <tr>\n",
       "      <th>0</th>\n",
       "      <td>4424</td>\n",
       "      <td>1709314161</td>\n",
       "      <td>✅ Эта часовая тренировка отлично подходит для ...</td>\n",
       "      <td>11</td>\n",
       "      <td>958.0</td>\n",
       "      <td>2</td>\n",
       "    </tr>\n",
       "    <tr>\n",
       "      <th>1</th>\n",
       "      <td>4421</td>\n",
       "      <td>1709142054</td>\n",
       "      <td>🏆 Победители и призеры фестиваля Boulderhouse....</td>\n",
       "      <td>20</td>\n",
       "      <td>628.0</td>\n",
       "      <td>2</td>\n",
       "    </tr>\n",
       "    <tr>\n",
       "      <th>2</th>\n",
       "      <td>4420</td>\n",
       "      <td>1709117429</td>\n",
       "      <td>✨ Фестиваль фестивалем, а новые трассы по расп...</td>\n",
       "      <td>17</td>\n",
       "      <td>887.0</td>\n",
       "      <td>0</td>\n",
       "    </tr>\n",
       "    <tr>\n",
       "      <th>3</th>\n",
       "      <td>4419</td>\n",
       "      <td>1708968819</td>\n",
       "      <td>🔥🔥🔥 Друзья, напоминаем вам, что у нас есть при...</td>\n",
       "      <td>16</td>\n",
       "      <td>1379.0</td>\n",
       "      <td>0</td>\n",
       "    </tr>\n",
       "    <tr>\n",
       "      <th>4</th>\n",
       "      <td>4418</td>\n",
       "      <td>1708782383</td>\n",
       "      <td></td>\n",
       "      <td>20</td>\n",
       "      <td>513.0</td>\n",
       "      <td>0</td>\n",
       "    </tr>\n",
       "    <tr>\n",
       "      <th>...</th>\n",
       "      <td>...</td>\n",
       "      <td>...</td>\n",
       "      <td>...</td>\n",
       "      <td>...</td>\n",
       "      <td>...</td>\n",
       "      <td>...</td>\n",
       "    </tr>\n",
       "    <tr>\n",
       "      <th>1746</th>\n",
       "      <td>5</td>\n",
       "      <td>1337884016</td>\n",
       "      <td>Внимание!!!С 28 мая скалодром работает с понед...</td>\n",
       "      <td>1</td>\n",
       "      <td>NaN</td>\n",
       "      <td>0</td>\n",
       "    </tr>\n",
       "    <tr>\n",
       "      <th>1747</th>\n",
       "      <td>4</td>\n",
       "      <td>1337617123</td>\n",
       "      <td>Внимание!2.06 финал фестиваля будет совмещен с...</td>\n",
       "      <td>0</td>\n",
       "      <td>NaN</td>\n",
       "      <td>0</td>\n",
       "    </tr>\n",
       "    <tr>\n",
       "      <th>1748</th>\n",
       "      <td>3</td>\n",
       "      <td>1337344257</td>\n",
       "      <td>Отличный скалодром)))</td>\n",
       "      <td>2</td>\n",
       "      <td>NaN</td>\n",
       "      <td>0</td>\n",
       "    </tr>\n",
       "    <tr>\n",
       "      <th>1749</th>\n",
       "      <td>2</td>\n",
       "      <td>1337239769</td>\n",
       "      <td>На скалодроме добавилось еще три новых фестива...</td>\n",
       "      <td>2</td>\n",
       "      <td>NaN</td>\n",
       "      <td>0</td>\n",
       "    </tr>\n",
       "    <tr>\n",
       "      <th>1750</th>\n",
       "      <td>1</td>\n",
       "      <td>1337173384</td>\n",
       "      <td>Ух ты круто я как раз сюда собиралась:-)))</td>\n",
       "      <td>1</td>\n",
       "      <td>NaN</td>\n",
       "      <td>0</td>\n",
       "    </tr>\n",
       "  </tbody>\n",
       "</table>\n",
       "<p>1751 rows × 6 columns</p>\n",
       "</div>"
      ],
      "text/plain": [
       "        id        date                                               text  \\\n",
       "0     4424  1709314161  ✅ Эта часовая тренировка отлично подходит для ...   \n",
       "1     4421  1709142054  🏆 Победители и призеры фестиваля Boulderhouse....   \n",
       "2     4420  1709117429  ✨ Фестиваль фестивалем, а новые трассы по расп...   \n",
       "3     4419  1708968819  🔥🔥🔥 Друзья, напоминаем вам, что у нас есть при...   \n",
       "4     4418  1708782383                                                      \n",
       "...    ...         ...                                                ...   \n",
       "1746     5  1337884016  Внимание!!!С 28 мая скалодром работает с понед...   \n",
       "1747     4  1337617123  Внимание!2.06 финал фестиваля будет совмещен с...   \n",
       "1748     3  1337344257                              Отличный скалодром)))   \n",
       "1749     2  1337239769  На скалодроме добавилось еще три новых фестива...   \n",
       "1750     1  1337173384         Ух ты круто я как раз сюда собиралась:-)))   \n",
       "\n",
       "      nlikes  nviews  ncomments  \n",
       "0         11   958.0          2  \n",
       "1         20   628.0          2  \n",
       "2         17   887.0          0  \n",
       "3         16  1379.0          0  \n",
       "4         20   513.0          0  \n",
       "...      ...     ...        ...  \n",
       "1746       1     NaN          0  \n",
       "1747       0     NaN          0  \n",
       "1748       2     NaN          0  \n",
       "1749       2     NaN          0  \n",
       "1750       1     NaN          0  \n",
       "\n",
       "[1751 rows x 6 columns]"
      ]
     },
     "execution_count": 25,
     "metadata": {},
     "output_type": "execute_result"
    }
   ],
   "source": [
    "# добавляем заголовки столбцов\n",
    "\n",
    "df.columns = [\"id\", \"date\", \"text\", \"nlikes\", \"nviews\", \"ncomments\"]\n",
    "df"
   ]
  },
  {
   "cell_type": "code",
   "execution_count": 26,
   "metadata": {},
   "outputs": [],
   "source": [
    "# сохраняем в Excel\n",
    "\n",
    "df.to_excel(\"rock_zona.xlsx\")"
   ]
  }
 ],
 "metadata": {
  "kernelspec": {
   "display_name": "Python 3",
   "language": "python",
   "name": "python3"
  },
  "language_info": {
   "codemirror_mode": {
    "name": "ipython",
    "version": 3
   },
   "file_extension": ".py",
   "mimetype": "text/x-python",
   "name": "python",
   "nbconvert_exporter": "python",
   "pygments_lexer": "ipython3",
   "version": "3.7.4"
  }
 },
 "nbformat": 4,
 "nbformat_minor": 2
}
