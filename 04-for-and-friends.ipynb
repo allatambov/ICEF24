{
 "cells": [
  {
   "cell_type": "markdown",
   "metadata": {},
   "source": [
    "# Python для сбора и анализа данных\n",
    "\n",
    "*Алла Тамбовцева, НИУ ВШЭ*\n",
    "\n",
    "## Цикл for и списковые включения, функции `zip()` и `enumerate()`"
   ]
  },
  {
   "cell_type": "markdown",
   "metadata": {},
   "source": [
    "### Списковые включения (генераторы списков)"
   ]
  },
  {
   "cell_type": "markdown",
   "metadata": {},
   "source": [
    "В Python для создания новых списков на основе старых существуют удобные конструкции, которые называются генераторы списков или списковые включения (*list comprehensions*). Они позволяют написать код, более компактный и быстрый по сравнению с кодом с использованием цикла `for` и метода `.append()`. Вспомним, как мы создавали новый список на основе старого с помощью цикла. \n",
    "\n",
    "Пусть у нас есть список целых чисел `nums`:"
   ]
  },
  {
   "cell_type": "code",
   "execution_count": 1,
   "metadata": {},
   "outputs": [],
   "source": [
    "nums = [1, 8, 23, 45, 67]"
   ]
  },
  {
   "cell_type": "markdown",
   "metadata": {},
   "source": [
    "Создадим теперь пустой список `nums_sq` и заполним его квадратами чисел из `nums`:"
   ]
  },
  {
   "cell_type": "code",
   "execution_count": 2,
   "metadata": {},
   "outputs": [
    {
     "name": "stdout",
     "output_type": "stream",
     "text": [
      "[1, 64, 529, 2025, 4489]\n"
     ]
    }
   ],
   "source": [
    "nums_sq = [] \n",
    "for n in nums:\n",
    "    nums_sq.append(n ** 2)\n",
    "print(nums_sq) "
   ]
  },
  {
   "cell_type": "markdown",
   "metadata": {},
   "source": [
    "Теперь рассмотрим решение той же задачи, но с помощью генераторов списков:"
   ]
  },
  {
   "cell_type": "code",
   "execution_count": 3,
   "metadata": {},
   "outputs": [
    {
     "name": "stdout",
     "output_type": "stream",
     "text": [
      "[1, 64, 529, 2025, 4489]\n"
     ]
    }
   ],
   "source": [
    "nums_sq = [n ** 2 for n in nums] \n",
    "print(nums_sq) "
   ]
  },
  {
   "cell_type": "markdown",
   "metadata": {},
   "source": [
    "Как устроен генератор списка? Во-первых, код для преобразований элементов старого списка записывается в квадратных скобках, так как мы создаем новый список. Во-вторых, мы пишем тот же код, что и в случае с циклом, но «раскручиваем» его с конца: сначала указываем, что за операцию надо выполнить, а потом – для каких элементов ее повторить. "
   ]
  },
  {
   "cell_type": "markdown",
   "metadata": {},
   "source": [
    "Теперь давайте проверим, что код с генератором списка работает быстрее. В начале ячейки (это обязательно должна быть первая строка, если первой строкой будет идти что-то еще, даже комментарий, ничего не сработает) напишем «магическую строку `%%timeit`. «Магическая строка» – это официальное название, так называются строки кода в Jupyter, которые начинаются с `%%` и отвечают за режим исполнения ячейки в Jupyter Notebook. В данном случае команда `timeit` отвечает за измерение времени исполнения кода.\n",
    "\n",
    "Для примера возьмем какой-нибудь список побольше – создадим список из кубов целых чисел от 0 до 5000 включительно на основе `range()`. Сначала сделаем это с помощью цикла и `.append()`:"
   ]
  },
  {
   "cell_type": "code",
   "execution_count": 4,
   "metadata": {},
   "outputs": [
    {
     "name": "stdout",
     "output_type": "stream",
     "text": [
      "1.56 ms ± 38.1 µs per loop (mean ± std. dev. of 7 runs, 1000 loops each)\n"
     ]
    }
   ],
   "source": [
    "%%timeit\n",
    "R = []\n",
    "for i in range(0, 5001):\n",
    "    R.append(i ** 3) "
   ]
  },
  {
   "cell_type": "markdown",
   "metadata": {},
   "source": [
    "Выдача сообщает нам, что ячейка с кодом выше была запущена 7 раз по 1000 раз, и что среднее время выполнения кода за такое число прогонов равно 1.56 милисекундам, а стандартное отклонение равно 38.1 микросекундам (на каждой системе в разное время будут свои числа). Почему недостаточно прогнать код один раз? Потому что хочется получить более общие результаты, с учетом разных факторов. Каждую секунду на компьютере выполняется множество процессов, которые мы явно не видим, но которые влияют на время исполнения кода. Поэтому, запуская ячейку много раз, Jupyter пытается оценить скорость выполнения кода в разные моменты времени и вывести сводные характеристики результатов."
   ]
  },
  {
   "cell_type": "markdown",
   "metadata": {},
   "source": [
    "Теперь проделаем то же самое, но для генератора списка:"
   ]
  },
  {
   "cell_type": "code",
   "execution_count": 5,
   "metadata": {},
   "outputs": [
    {
     "name": "stdout",
     "output_type": "stream",
     "text": [
      "1.41 ms ± 61 µs per loop (mean ± std. dev. of 7 runs, 1000 loops each)\n"
     ]
    }
   ],
   "source": [
    "%%timeit\n",
    "R = [i ** 3 for i in range(0, 5001)] "
   ]
  },
  {
   "cell_type": "markdown",
   "metadata": {},
   "source": [
    "Хотя результаты у всех получаются разные, в любом случае нетрудно заметить, что исполнение кода с генератором списка заняло меньше времени, чем исполнение кода с циклом."
   ]
  },
  {
   "cell_type": "markdown",
   "metadata": {},
   "source": [
    "### Функция `zip()`\n",
    "\n",
    "Как работать с одним списком мы уже знаем – можно, например, перебирать его элементы с помощью цикла for и выполнять с ними какие-то действия. А как быть, если у нас есть несколько списков одинаковой длины, и мы хотим работать одновременно с первыми элементами всех списков, вторыми элементами всех списоков, третьими элементами всех списков, и так далее?\n",
    "\n",
    "Логичное решение – делать перебор не самих элементов списков, а их индексов. Для примера рассмотрим такую задачу. В списках `problem01` и `problem02` хранятся баллы за первую и вторую задачу самостоятельной работы одних и тех же пяти студентов:"
   ]
  },
  {
   "cell_type": "code",
   "execution_count": 6,
   "metadata": {},
   "outputs": [],
   "source": [
    "problem01 = [5, 0, 2, 5, 1]\n",
    "problem02 = [0, 1, 5, 3, 5]"
   ]
  },
  {
   "cell_type": "markdown",
   "metadata": {},
   "source": [
    "Нам нужно посчитать сумму баллов за два задания для каждого студента. Чтобы это сделать, мы должны первый элемент списка `problem01` сложить с первым элементом списка `problem02`, второй элемент списка `problem01` сложить со вторым элементом списка `problem02`, и так далее. Всего мы должны выполнить сложение пять раз – длины списков одинаковы и равны 5.\n",
    "\n",
    "Чтобы универсальным образом (работающим не только для списков из пяти элементов) получить набор индексов, нам понадобятся функции `range()` и `len()`:"
   ]
  },
  {
   "cell_type": "code",
   "execution_count": 7,
   "metadata": {},
   "outputs": [
    {
     "name": "stdout",
     "output_type": "stream",
     "text": [
      "0 1 2 3 4\n"
     ]
    }
   ],
   "source": [
    "print(*range(len(problem01)))"
   ]
  },
  {
   "cell_type": "markdown",
   "metadata": {},
   "source": [
    "Используя эти индексы, мы сможем перебрать элементы сразу в двух списках:"
   ]
  },
  {
   "cell_type": "code",
   "execution_count": 8,
   "metadata": {},
   "outputs": [
    {
     "name": "stdout",
     "output_type": "stream",
     "text": [
      "5 0\n",
      "0 1\n",
      "2 5\n",
      "5 3\n",
      "1 5\n"
     ]
    }
   ],
   "source": [
    "# на первом шаге i=0, первые элементы\n",
    "# на втором шаге i=1, вторые элементы...\n",
    "\n",
    "for i in range(len(problem01)):\n",
    "    print(problem01[i], problem02[i])"
   ]
  },
  {
   "cell_type": "markdown",
   "metadata": {},
   "source": [
    "Осталось только сложить баллы за два задания:"
   ]
  },
  {
   "cell_type": "code",
   "execution_count": 9,
   "metadata": {},
   "outputs": [
    {
     "name": "stdout",
     "output_type": "stream",
     "text": [
      "5\n",
      "1\n",
      "7\n",
      "8\n",
      "6\n"
     ]
    }
   ],
   "source": [
    "for i in range(len(problem01)):\n",
    "    print(problem01[i] + problem02[i])"
   ]
  },
  {
   "cell_type": "markdown",
   "metadata": {},
   "source": [
    "Ура, получилось!\n",
    "\n",
    "Если бы мы создавали новый список с суммой баллов, мы бы использовали метод `.append()`:"
   ]
  },
  {
   "cell_type": "code",
   "execution_count": 10,
   "metadata": {},
   "outputs": [
    {
     "name": "stdout",
     "output_type": "stream",
     "text": [
      "[5, 1, 7, 8, 6]\n"
     ]
    }
   ],
   "source": [
    "res = []\n",
    "for i in range(len(problem01)):\n",
    "    res.append(problem01[i] + problem02[i])\n",
    "print(res)"
   ]
  },
  {
   "cell_type": "markdown",
   "metadata": {},
   "source": [
    "Однако задач такого рода можно найти и более изящное решение – при работе в Python стараются избегать перебора элементов по индексам, сама конструкция `for ... in range(len(...))` считается нежелательной. Для этого решения нам понадобится функция `zip()`. Название этой функции говорящее – она как «молния» на одежде соединяет списки одинаковой длины, образуя пары/тройки/четверки элементов, в зависимости от количества списков:"
   ]
  },
  {
   "cell_type": "code",
   "execution_count": 11,
   "metadata": {},
   "outputs": [
    {
     "name": "stdout",
     "output_type": "stream",
     "text": [
      "(1, 10) (2, 20) (3, 30) (4, 40)\n"
     ]
    }
   ],
   "source": [
    "L1 = [1, 2, 3, 4]\n",
    "L2 = [10, 20, 30, 40] \n",
    "\n",
    "# пары значений, первое из первого списка, второе – из второго\n",
    "print(*zip(L1, L2))"
   ]
  },
  {
   "cell_type": "code",
   "execution_count": 12,
   "metadata": {},
   "outputs": [
    {
     "name": "stdout",
     "output_type": "stream",
     "text": [
      "('Anna', 7, 'passed') ('James', 2, 'failed') ('Nick', 8, 'passed')\n"
     ]
    }
   ],
   "source": [
    "names = [\"Anna\", \"James\", \"Nick\"]\n",
    "grades = [7, 2, 8]\n",
    "status = [\"passed\", \"failed\", \"passed\"]\n",
    "\n",
    "# тройки значений\n",
    "print(*zip(names, grades, status))"
   ]
  },
  {
   "cell_type": "markdown",
   "metadata": {},
   "source": [
    "Функция `zip()` создает специальный объект типа `zip()`, элементы которого, как и в случае с `range()`, нам не видны. Однако по сути этот объект представляет собой просто список, состоящий из кортежей (*tuples*).\n",
    "\n",
    "Как нам использовать функцию `zip()` в нашей задаче? Для начала применим ее к спискам с оценками:"
   ]
  },
  {
   "cell_type": "code",
   "execution_count": 13,
   "metadata": {},
   "outputs": [
    {
     "name": "stdout",
     "output_type": "stream",
     "text": [
      "(5, 0) (0, 1) (2, 5) (5, 3) (1, 5)\n"
     ]
    }
   ],
   "source": [
    "print(*zip(problem01, problem02))"
   ]
  },
  {
   "cell_type": "markdown",
   "metadata": {},
   "source": [
    "Теперь сделаем перебор по полученному списку пар. Python умеет выполнять перебор в цикле for сразу по нескольким элементам, если мы укажем их через запятую:"
   ]
  },
  {
   "cell_type": "code",
   "execution_count": 14,
   "metadata": {},
   "outputs": [
    {
     "name": "stdout",
     "output_type": "stream",
     "text": [
      "5\n",
      "1\n",
      "7\n",
      "8\n",
      "6\n"
     ]
    }
   ],
   "source": [
    "# p1 – всегда первый элемент в каждой паре\n",
    "# p2 – всегда второй элемент в каждой паре\n",
    "\n",
    "for p1, p2 in zip(problem01, problem02):\n",
    "    print(p1 + p2)"
   ]
  },
  {
   "cell_type": "markdown",
   "metadata": {},
   "source": [
    "Готово! Результат такой же, как и в решении через индексы, но более аккуратный и без лишних нагромождений с `range()`, `len()` и квадратными скобками для вызова элементов.\n",
    "\n",
    "Говорить о списках пар значений мы начали неслучайно. Для решения многих практических задач структуры такого вида очень удобны. Например, если нас интересуют характеристики пользователей во ВКонтакте, логично будет по каждому пользователю записать данные в виде пар (`id` – числовой id, `first name` – имя, `last name` - фамилия, `byear` – год рождения, и так далее). Тогда вся информация будет в едином формате, и при этом мы уйдем от необходимости фиксировать, на каком месте в перечне находится пользователь, ведь теперь мы сможем найти его по либо по имени рядом с name, либо по id рядом с id. И для хранения пар связанных значений (ассоциативные пары) в Python существует отдельная структура данных – словари. О них мы поговорим в следующий раз, а сейчас посмотрим ещё на одну полезную функцию. "
   ]
  },
  {
   "cell_type": "markdown",
   "metadata": {},
   "source": [
    "### Функция `enumerate()`\n",
    "\n",
    "Иногда возникает необходимость одновременно хранить информацию об элементах последовательности и их индексах. Рассмотрим такую задачу. У нас есть список напитков:"
   ]
  },
  {
   "cell_type": "code",
   "execution_count": 15,
   "metadata": {},
   "outputs": [],
   "source": [
    "drinks = [\"coffee\", \"tea\", \"juice\", \"milk\", \n",
    "          \"still water\", \"sparkling water\"]"
   ]
  },
  {
   "cell_type": "markdown",
   "metadata": {},
   "source": [
    "Мы хотим облегчить пользователю ввод с клавиатуры и предложить ему вводить вместо названия напитка его номер. Для этого нам потребуется текст с парами *индекс – элемент*. С одной стороны, можно это сделать, используя уже знакомую конструкцию `for ... in range(len(...))`:"
   ]
  },
  {
   "cell_type": "code",
   "execution_count": 16,
   "metadata": {},
   "outputs": [
    {
     "name": "stdout",
     "output_type": "stream",
     "text": [
      "0 coffee\n",
      "1 tea\n",
      "2 juice\n",
      "3 milk\n",
      "4 still water\n",
      "5 sparkling water\n"
     ]
    }
   ],
   "source": [
    "for i in range(len(drinks)):\n",
    "    print(i, drinks[i])"
   ]
  },
  {
   "cell_type": "markdown",
   "metadata": {},
   "source": [
    "С другой стороны, как мы тоже выяснили, перебор по индексам – вариант рабочий, но не классный с точки зрения хорошего кода на Python. Поэтому для решения этой задачи лучше воспользоваться готовой функцией `enumerate()`. Она сочетает в себе `zip()` и `range()`, то есть умеет фиксировать индексы элементов и «склеивать» их в пары с самими элементами:"
   ]
  },
  {
   "cell_type": "code",
   "execution_count": 17,
   "metadata": {},
   "outputs": [
    {
     "name": "stdout",
     "output_type": "stream",
     "text": [
      "(0, 'coffee') (1, 'tea') (2, 'juice') (3, 'milk') (4, 'still water') (5, 'sparkling water')\n"
     ]
    }
   ],
   "source": [
    "print(*enumerate(drinks))"
   ]
  },
  {
   "cell_type": "markdown",
   "metadata": {},
   "source": [
    "Применим эту функцию в цикле, пользуясь тем, что перебор можно делать по двум элементам сразу:"
   ]
  },
  {
   "cell_type": "code",
   "execution_count": 18,
   "metadata": {},
   "outputs": [
    {
     "name": "stdout",
     "output_type": "stream",
     "text": [
      "0 coffee\n",
      "1 tea\n",
      "2 juice\n",
      "3 milk\n",
      "4 still water\n",
      "5 sparkling water\n"
     ]
    }
   ],
   "source": [
    "for i, drink in enumerate(drinks):\n",
    "    print(i, drink)"
   ]
  },
  {
   "cell_type": "markdown",
   "metadata": {},
   "source": [
    "Теперь мы можем вернуться к нашей изначальной задаче и через f-строку написать текст для пользователя:"
   ]
  },
  {
   "cell_type": "code",
   "execution_count": 19,
   "metadata": {},
   "outputs": [
    {
     "name": "stdout",
     "output_type": "stream",
     "text": [
      "Введите номер напитка:\n",
      " 0: coffee \n",
      " 1: tea \n",
      " 2: juice \n",
      " 3: milk \n",
      " 4: still water \n",
      " 5: sparkling water \n",
      "2\n"
     ]
    }
   ],
   "source": [
    "message = \"Введите номер напитка:\\n\"\n",
    "\n",
    "for i, drink in enumerate(drinks):\n",
    "    message = message + f\" {i}: {drink} \\n\"\n",
    "    \n",
    "choice = input(message)"
   ]
  }
 ],
 "metadata": {
  "kernelspec": {
   "display_name": "Python 3",
   "language": "python",
   "name": "python3"
  },
  "language_info": {
   "codemirror_mode": {
    "name": "ipython",
    "version": 3
   },
   "file_extension": ".py",
   "mimetype": "text/x-python",
   "name": "python",
   "nbconvert_exporter": "python",
   "pygments_lexer": "ipython3",
   "version": "3.7.4"
  }
 },
 "nbformat": 4,
 "nbformat_minor": 2
}
