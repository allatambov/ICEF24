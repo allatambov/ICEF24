{
 "cells": [
  {
   "cell_type": "markdown",
   "metadata": {},
   "source": [
    "# Python для сбора и анализа данных\n",
    "\n",
    "*Автор задач: Тамбовцева А.А.*\n",
    "\n",
    "## Практикум 2: строки, списки, цикл for"
   ]
  },
  {
   "cell_type": "markdown",
   "metadata": {},
   "source": [
    "### Задача 1\n",
    "\n",
    "Чип и Дейл собирают орехи, чтобы Спасатели (а их в команде пятеро) смогли ими перекусить во время совместного вечернего просмотра фильма о пришельцах. Спасатели всегда делят орехи поровну.\n",
    "\n",
    "Напишите программу, которая запрашивает с клавиатуры число орехов, набранное Чипом и Дейлом по-отдельности (два целых числа через пробел) и выводит на экран через пробел число орехов, которое достанется каждому из Спасателей, и число орехов, которое при таком дележе останется.\n",
    "\n",
    "**Пример работы программы**\n",
    "\n",
    "Ввод:\n",
    "\n",
    "    20 30\n",
    "\n",
    "Вывод:\n",
    "\n",
    "    10 0\n",
    "\n",
    "Ввод:\n",
    "\n",
    "    30 12\n",
    "\n",
    "Вывод:\n",
    "\n",
    "    8 2\n",
    "\n",
    "Ввод:\n",
    "\n",
    "    62 34\n",
    "\n",
    "Вывод:\n",
    "\n",
    "    19 1"
   ]
  },
  {
   "cell_type": "code",
   "execution_count": null,
   "metadata": {},
   "outputs": [],
   "source": [
    "### YOUR CODE HERE ###"
   ]
  },
  {
   "cell_type": "markdown",
   "metadata": {},
   "source": [
    "### Задача 2\n",
    "\n",
    "Напишите программу, которая запрашивает с клавиатуры два целых числа через пробел (назовём их $a$ и $b$) и выводит на экран перечень целых чисел от $a$ до $b$ включительно.\n",
    "\n",
    "**Пример работы программы**\n",
    "\n",
    "Ввод:\n",
    "\n",
    "    2 7\n",
    "\n",
    "Вывод:\n",
    "\n",
    "    2 3 4 5 6 7"
   ]
  },
  {
   "cell_type": "code",
   "execution_count": null,
   "metadata": {},
   "outputs": [],
   "source": [
    "### YOUR CODE HERE ###"
   ]
  },
  {
   "cell_type": "markdown",
   "metadata": {},
   "source": [
    "### Задача 3\n",
    "\n",
    "Напишите программу, которая запрашивает с клавиатуры целое число $n$ и выводит на экран сумму квадратов чисел от 1 до $n$ включительно.\n",
    "\n",
    "Решите эту задачу:\n",
    "\n",
    "* в предположении, что создавать список и считать сумму его элементов можно;\n",
    "* в предположении, что создавать списки нельзя."
   ]
  },
  {
   "cell_type": "code",
   "execution_count": null,
   "metadata": {},
   "outputs": [],
   "source": [
    "### YOUR CODE HERE ###"
   ]
  },
  {
   "cell_type": "markdown",
   "metadata": {},
   "source": [
    "### Задача 4\n",
    "\n",
    "Напишите программу, которая приводит текст, сохранённый в переменной `text`, к нормальному виду. Нормальный вид текста: текст состоит только из слов в начальной форме, записанных маленькими буквами через пробел, нет никаких посторонних символов."
   ]
  },
  {
   "cell_type": "code",
   "execution_count": null,
   "metadata": {},
   "outputs": [],
   "source": [
    "# фрагмент статьи Википедии о Владимире Высоцком\n",
    "\n",
    "text = \"\"\"\n",
    "Как поэт Высоцкий реализовал себя, прежде всего, в жанре \n",
    "авторской песни. Первые из написанных им произведений относятся \n",
    "к началу 1960-х годов. Вначале они исполнялись в кругу друзей, \n",
    "позже получили широкую известность благодаря распространявшимся \n",
    "по стране магнитофонным записям. Поэзия Высоцкого отличалась \n",
    "многообразием тем (уличные, лагерные, военные, сатирические, \n",
    "бытовые, сказочные, «спортивные» песни), остротой смыслового \n",
    "подтекста и акцентированной социально-нравственной позицией \n",
    "автора. В его произведениях, рассказывающих о внутреннем \n",
    "выборе людей, поставленных в экстремальные обстоятельства, \n",
    "прослеживались экзистенциальные мотивы. Творческая эволюция \n",
    "Высоцкого прошла в несколько этапов. В его раннем творчестве \n",
    "преобладали уличные и дворовые песни. С середины 1960-х годов \n",
    "тематика произведений начала расширяться, а песенные циклы — \n",
    "складываться в новую «энциклопедию русской жизни». \n",
    "В 1970-х годах значительную часть творчества Высоцкого \n",
    "составляли песни и стихотворения исповедально-философского характера, \n",
    "поэт часто обращался к вечным вопросам бытия.\n",
    "\"\"\""
   ]
  },
  {
   "cell_type": "markdown",
   "metadata": {},
   "source": [
    "Алгоритм работы:\n",
    "\n",
    "1. Привести все буквы к нижнему регистру.\n",
    "2. Заменить все знаки препинания на пробелы.\n",
    "3. Разбить текст на слова и получить список слов.\n",
    "4. Избавиться от лишних пробелов в словах внутри полученного списка (если есть).\n",
    "5. Привести каждое слово в списке к начальной форме.\n",
    "6. Склеить все слова в начальной форме в одну строку с текстом.\n",
    "\n",
    "**Полезный код 1.** Знаки препинания можно извлечь из строки `punctuation`, которая хранится в модуле `string`. Однако там не все знаки препинания, например, нет русских кавычек-ёлочек (`«»`) и длинного тире (`–`). Их можно добавить самостоятельно!"
   ]
  },
  {
   "cell_type": "code",
   "execution_count": null,
   "metadata": {},
   "outputs": [],
   "source": [
    "from string import punctuation\n",
    "print(punctuation)"
   ]
  },
  {
   "cell_type": "markdown",
   "metadata": {},
   "source": [
    "**Полезный код 2.** Привести слова к начальной форме без специальных библиотек не получится. Можно установить библиотеку `pymorphy2`, в неё встроен морфологический анализатор – программа, которая позволяет выполнять морфологический разбор слова.\n",
    "\n",
    "Установка библиотеки:"
   ]
  },
  {
   "cell_type": "code",
   "execution_count": null,
   "metadata": {},
   "outputs": [],
   "source": [
    "!pip install pymorphy2"
   ]
  },
  {
   "cell_type": "markdown",
   "metadata": {},
   "source": [
    "Пример работы:"
   ]
  },
  {
   "cell_type": "code",
   "execution_count": null,
   "metadata": {},
   "outputs": [],
   "source": [
    "from pymorphy2 import MorphAnalyzer\n",
    "\n",
    "# создаем анализатор (объект класса MorphAnalyzer)\n",
    "morph = MorphAnalyzer()\n",
    "\n",
    "# анализируем\n",
    "\n",
    "print(morph.parse('экономистами'))\n",
    "\n",
    "# делаем разбор и забираем начальную форму\n",
    "print(morph.parse('экономистами')[0].normal_form)"
   ]
  },
  {
   "cell_type": "code",
   "execution_count": null,
   "metadata": {},
   "outputs": [],
   "source": [
    "### YOUR CODE HERE ###"
   ]
  },
  {
   "cell_type": "markdown",
   "metadata": {},
   "source": [
    "### Задача 5 (бонус!)\n",
    "\n",
    "Напишем программу, которая приводит текст к нормальной форме по схеме, предложенной в предыдущей задаче, и строит для него облако слов. Для начала установим библиотеку `wordcloud` для построения облака слов:"
   ]
  },
  {
   "cell_type": "code",
   "execution_count": null,
   "metadata": {},
   "outputs": [],
   "source": [
    "!pip install wordcloud"
   ]
  },
  {
   "cell_type": "markdown",
   "metadata": {},
   "source": [
    "Импортируем оттуда функцию `WordCloud()` (на самом деле, класс `WordCloud`, который создает объект типа `WordCloud` с определёнными методами):"
   ]
  },
  {
   "cell_type": "code",
   "execution_count": null,
   "metadata": {},
   "outputs": [],
   "source": [
    "from wordcloud import WordCloud"
   ]
  },
  {
   "cell_type": "markdown",
   "metadata": {},
   "source": [
    "Импортируем модуль `pyplot` из библиотеки `matplotlib` для отрисовки графиков:"
   ]
  },
  {
   "cell_type": "code",
   "execution_count": null,
   "metadata": {},
   "outputs": [],
   "source": [
    "from matplotlib import pyplot as plt"
   ]
  },
  {
   "cell_type": "markdown",
   "metadata": {},
   "source": [
    "Генерируем облако слов через метод `.generate()` и отрисовываем его:"
   ]
  },
  {
   "cell_type": "code",
   "execution_count": null,
   "metadata": {},
   "outputs": [],
   "source": [
    "# plt.axis(): выключаем оси, нам не нужны засечки по осям Ox, Oy\n",
    "\n",
    "wordcloud = WordCloud().generate(final_text)\n",
    "plt.imshow(wordcloud, interpolation='bilinear')\n",
    "plt.axis(\"off\")\n",
    "plt.show()"
   ]
  },
  {
   "cell_type": "markdown",
   "metadata": {},
   "source": [
    "Чтобы убрать стоп-слова (частые слова вроде предлогов, союзов и местоимений, которые не несут большой смысловой нагрузки), загрузим их из текстового файла со словами `stop_words_ru.txt`."
   ]
  },
  {
   "cell_type": "code",
   "execution_count": null,
   "metadata": {},
   "outputs": [],
   "source": [
    "# открываем файл и считываем строки\n",
    "\n",
    "file = open(\"stop_words_ru.txt\", encoding = \"utf-8\")\n",
    "lines = file.readlines()"
   ]
  },
  {
   "cell_type": "code",
   "execution_count": null,
   "metadata": {},
   "outputs": [],
   "source": [
    "# удаляем лишние \\n в конце строк\n",
    "# смотрим на первые 30 слов\n",
    "\n",
    "words = [line.strip() for line in lines]\n",
    "print(words[0:30])"
   ]
  },
  {
   "cell_type": "markdown",
   "metadata": {},
   "source": [
    "Осталось учесть этот список при генерации облака слов – аргумент `stopwords`:"
   ]
  },
  {
   "cell_type": "code",
   "execution_count": null,
   "metadata": {},
   "outputs": [],
   "source": [
    "# заодно сделаем цвет фона белым\n",
    "\n",
    "wordcloud = WordCloud(stopwords = words, \n",
    "                     background_color=\"white\").generate(final_text)\n",
    "\n",
    "plt.imshow(wordcloud, interpolation='bilinear')\n",
    "plt.axis(\"off\")\n",
    "plt.show()"
   ]
  },
  {
   "cell_type": "markdown",
   "metadata": {},
   "source": [
    "Добавим маску, чтобы сделать облако слов похожим на гитару. Импортируем функцию `Image()` для обработки изображений и библиотеку `numpy` для превращения изображения в числовой массив:"
   ]
  },
  {
   "cell_type": "code",
   "execution_count": null,
   "metadata": {},
   "outputs": [],
   "source": [
    "from PIL import Image\n",
    "import numpy as np"
   ]
  },
  {
   "cell_type": "markdown",
   "metadata": {},
   "source": [
    "Создаём массив на основе изображения `guitar.jpeg` ([ссылка](https://www.dropbox.com/s/upcedsfo0nfy42y/guitar.jpeg?dl=0) на картинку, источник [Freepik](https://www.freepik.com/free-vector/silhouettes-set-acoustic-guitars_1127701.htm#query=guitar%20silhouette&position=0&from_view=search&track=ais)):"
   ]
  },
  {
   "cell_type": "code",
   "execution_count": null,
   "metadata": {},
   "outputs": [],
   "source": [
    "my_mask = np.array(Image.open(\"guitar.jpeg\"))"
   ]
  },
  {
   "cell_type": "code",
   "execution_count": null,
   "metadata": {},
   "outputs": [],
   "source": [
    "# добавляем аргумент mask\n",
    "\n",
    "wordcloud = WordCloud(\n",
    "                     background_color=\"white\",\n",
    "                     mask = my_mask).generate(text)\n",
    "\n",
    "plt.imshow(wordcloud, interpolation='bilinear')\n",
    "plt.axis(\"off\")\n",
    "plt.show()"
   ]
  }
 ],
 "metadata": {
  "kernelspec": {
   "display_name": "Python 3",
   "language": "python",
   "name": "python3"
  },
  "language_info": {
   "codemirror_mode": {
    "name": "ipython",
    "version": 3
   },
   "file_extension": ".py",
   "mimetype": "text/x-python",
   "name": "python",
   "nbconvert_exporter": "python",
   "pygments_lexer": "ipython3",
   "version": "3.7.4"
  }
 },
 "nbformat": 4,
 "nbformat_minor": 2
}
